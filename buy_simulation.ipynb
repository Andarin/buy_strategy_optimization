{
 "cells": [
  {
   "cell_type": "markdown",
   "metadata": {},
   "source": [
    "## This is the main script where all simulations are launched"
   ]
  },
  {
   "cell_type": "code",
   "execution_count": 31,
   "metadata": {},
   "outputs": [],
   "source": [
    "import random\n",
    "import time\n",
    "import warnings\n",
    "\n",
    "random.seed(271)\n",
    "\n",
    "# Given\n",
    "n = 1000\n",
    "c_t = 500\n",
    "c_s = 1\n",
    "v_w = 50\n",
    "v_l = 0\n",
    "\n",
    "# Searched\n",
    "triangle = [max(n*0.15-x,0) for x in range(n)]\n",
    "w_distribution = {x: triangle[x]/sum(triangle) for x in range(n)}\n",
    "\n",
    "# Technical params\n",
    "proba_threshold = 0.00002\n",
    "rep_n = 1000\n",
    "print_progress_every_x_sec = 10\n",
    "break_exact_method_after_x_sec = 5\n",
    "\n",
    "events = {}\n",
    "\n",
    "def calc_stats(obs):\n",
    "    stat_dict = {}\n",
    "    stat_dict[\"mean\"] = sum([payout*proba for payout,proba in obs])\n",
    "    stat_dict[\"proba_win\"] = sum([proba for payout,proba in obs if payout>0])\n",
    "    stat_dict[\"proba_loss\"] = sum([proba for payout,proba in obs if payout<=0])\n",
    "    if stat_dict[\"proba_win\"]>0:\n",
    "        stat_dict[\"mean_win\"] = sum([payout*proba for payout,proba in obs if payout>0])/sum([proba for payout,proba in obs if payout>0])\n",
    "    else:\n",
    "        stat_dict[\"mean_win\"] = None\n",
    "\n",
    "    if stat_dict[\"proba_loss\"]>0:\n",
    "        stat_dict[\"mean_loss\"] = sum([payout*proba for payout,proba in obs if payout<=0])/sum([proba for payout,proba in obs if payout<=0])\n",
    "    else:\n",
    "        stat_dict[\"mean_loss\"] = None\n",
    "    return stat_dict\n",
    "\n",
    "\n",
    "def calc_metastats(payouts):\n",
    "    stat_dict = {\"mean\": 0, \"mean_win\": 0, \"mean_loss\": 0, \"proba_win\": 0, \"proba_loss\": 0}\n",
    "    for w, w_proba in w_distribution.items():\n",
    "        stat_dict[\"mean\"] += payouts[w][\"stats\"][\"mean\"]*w_proba\n",
    "        stat_dict[\"proba_win\"] += payouts[w][\"stats\"][\"proba_win\"]*w_proba\n",
    "        if payouts[w][\"stats\"][\"proba_win\"] >0:\n",
    "            stat_dict[\"mean_win\"] += payouts[w][\"stats\"][\"mean_win\"]*payouts[w][\"stats\"][\"proba_win\"]*w_proba\n",
    "        stat_dict[\"proba_loss\"] += payouts[w][\"stats\"][\"proba_loss\"]*w_proba\n",
    "        if payouts[w][\"stats\"][\"proba_loss\"] >0:\n",
    "            stat_dict[\"mean_loss\"] += payouts[w][\"stats\"][\"mean_loss\"]*payouts[w][\"stats\"][\"proba_loss\"]*w_proba\n",
    "    return stat_dict\n",
    "\n",
    "\n",
    "def calc_payout(decision, hist_list, w):\n",
    "    l = n-w\n",
    "    if len(hist_list) == n:\n",
    "        warnings.warn(\"Function never stopped, it bought the whole box as singles.\")\n",
    "        return w*v_w + l*v_l - len(hist_list)*c_s\n",
    "    elif decision == \"buy\":\n",
    "        return w*v_w + l*v_l - c_t - len(hist_list)*c_s\n",
    "    elif decision == \"refuse\":\n",
    "        return sum(hist_list)*v_w + (len(hist_list) - sum(hist_list))*v_l - len(hist_list)*c_s\n",
    "    else:\n",
    "        raise ValueError(\"Wrong return value from function ! Should be [buy, refuse, continue]\")\n",
    "\n",
    "            \n",
    "def run_random(f):\n",
    "    payouts = {}\n",
    "    for w, w_proba in w_distribution.items():\n",
    "        payouts[w] = {\"obs\": []}\n",
    "        for i_rep in range(rep_n):\n",
    "\n",
    "            hist_list = []\n",
    "            while True:\n",
    "                if \"random_float\" in f.__code__.co_varnames:\n",
    "                    decision = f(hist_list, random_float=random.uniform(0, 1))\n",
    "                else:\n",
    "                    decision = f(hist_list)\n",
    "                if decision == \"continue\" and len(hist_list) < n:\n",
    "                    hist_list += random.choices([1,0], cum_weights=[w-sum(hist_list), n-len(hist_list)])\n",
    "                    continue\n",
    "                else:\n",
    "                    payout = calc_payout(decision, hist_list, w)\n",
    "                    payouts[w][\"obs\"] += [(payout, 1/rep_n)]\n",
    "                    break\n",
    "                    \n",
    "        payouts[w][\"stats\"] = calc_stats(payouts[w][\"obs\"])\n",
    "\n",
    "    payouts[\"stats\"] = calc_metastats(payouts)\n",
    "    return payouts\n",
    "\n",
    "\n",
    "def evaluate_exact(w, w_distribution, start_time):\n",
    "    w_proba = w_distribution[w]\n",
    "    payout_list = []\n",
    "    tree = [((),1)]\n",
    "    while len(tree) > 0:\n",
    "        if time.time() - start_time > break_exact_method_after_x_sec:\n",
    "            raise TimeoutError\n",
    "\n",
    "        hist_list, proba = tree.pop()\n",
    "        n_tries = len(hist_list)\n",
    "\n",
    "        if \"random_float\" in f.__code__.co_varnames:\n",
    "            # Case if decision is partly random\n",
    "            if proba > proba_threshold:\n",
    "                n_randoms = 5\n",
    "                proba /= n_randoms\n",
    "                decision_list = [f(hist_list, random_float=random.uniform(0, 1)) for random_int in range(n_randoms)]\n",
    "            else:\n",
    "                decision_list = [f(hist_list, random_float=random.uniform(0, 1))]\n",
    "        else:\n",
    "            # Case if decision is deterministic\n",
    "            decision_list = [f(hist_list)]\n",
    "\n",
    "        for decision in decision_list:\n",
    "            if decision == \"continue\" and n_tries < n:\n",
    "                proba_win_marginal = (w-sum(hist_list))/(n-n_tries)\n",
    "                proba_loss_marginal = 1 - proba_win_marginal\n",
    "\n",
    "                if proba > proba_threshold:\n",
    "                    if proba_win_marginal > 0:\n",
    "                        tree.append((hist_list + (1,), proba*proba_win_marginal))\n",
    "                    if proba_loss_marginal > 0:\n",
    "                        tree.append((hist_list + (0,), proba*proba_loss_marginal))\n",
    "                else:\n",
    "                    # Case if probability gets too small to be relevant\n",
    "                    # Number of leafs of tree must be kept reasonable -> stop in smallest branches\n",
    "                    random_draw = random.choices([1,0], cum_weights=[proba_win_marginal, 1])[0]\n",
    "                    tree.append((hist_list + (random_draw,), proba))\n",
    "\n",
    "            else:\n",
    "                payout = calc_payout(decision, hist_list, w)\n",
    "                payout_list += [(payout, proba)]\n",
    "                \n",
    "        return payout_list\n",
    "\n",
    "\n",
    "def run_exact(f):\n",
    "    payouts = {}\n",
    "    start_time = time.time()\n",
    "    current_time = start_time\n",
    "    w_n = len(w_distribution)\n",
    "    try:\n",
    "        for iw, w in enumerate(w_distribution):\n",
    "            if time.time() - current_time > print_progress_every_x_sec:\n",
    "                current_time = time.time()\n",
    "                remaining_est_time = (current_time-start_time)/iw*(w_n-iw)\n",
    "                print(\"Est. time remaining: \" + str(round(remaining_est_time)) + \"s\")\n",
    "            \n",
    "            payouts[w][\"obs\"] = evaluate_exact(w, w_distribution, start_time)\n",
    "            payouts[w][\"stats\"] = calc_stats(payouts[w][\"obs\"])\n",
    "\n",
    "        payouts[\"stats\"] = calc_metastats(payouts)\n",
    "    except TimeoutError:\n",
    "        warnings.warn(\"Function takes too long to be exactly evaluated; falling back to Monte Carlo.\")\n",
    "        payouts = run_random(f)\n",
    "    return payouts\n",
    "\n"
   ]
  },
  {
   "cell_type": "code",
   "execution_count": 32,
   "metadata": {},
   "outputs": [],
   "source": [
    "def buy(hist_list):\n",
    "    return(\"buy\")\n",
    "\n",
    "\n",
    "def buy_if_x_success(hist_list, x):\n",
    "    if sum(hist_list) == x:\n",
    "        return(\"buy\")\n",
    "    return(\"continue\")\n",
    "\n",
    "\n",
    "def buy_if_extrapolation_fix_sample_x_yields_positive_profit(hist_list, x):\n",
    "    if len(hist_list) == x:\n",
    "        if (sum(hist_list)*v_w + (len(hist_list)-sum(hist_list))*v_l)/x*n > c_t + len(hist_list)*c_s:\n",
    "            return(\"buy\")\n",
    "        else:\n",
    "            return(\"refuse\")\n",
    "    return(\"continue\")\n",
    "\n",
    "\n",
    "def buy_if_success_ratio_geq_x(hist_list, x):\n",
    "    if len(hist_list) > 0 and sum(hist_list)/len(hist_list) >= x:\n",
    "        return(\"buy\")\n",
    "    return(\"continue\")\n",
    "\n",
    "\n",
    "def buy_random(hist_list, random_float):\n",
    "    if random_float <= 0.5:\n",
    "        return(\"buy\")\n",
    "    return(\"continue\")\n",
    "    \n",
    "\n",
    "def buy_refuse_random(hist_list, random_float):\n",
    "    if random_float < 0.34:\n",
    "        return(\"buy\")\n",
    "    elif random_float < 0.67:\n",
    "        return(\"refuse\")\n",
    "    return(\"continue\")\n",
    "\n",
    "\n",
    "competition = {\"buy\": buy, \n",
    "           \"buy_if_x_success\": buy_if_x_success, \n",
    "           \"buy_if_extrapolation_fix_sample_x_yields_positive_profit\": buy_if_extrapolation_fix_sample_x_yields_positive_profit, \n",
    "           \"buy_random\": buy_random,\n",
    "           \"buy_refuse_random\": buy_refuse_random}"
   ]
  },
  {
   "cell_type": "code",
   "execution_count": 33,
   "metadata": {},
   "outputs": [
    {
     "name": "stderr",
     "output_type": "stream",
     "text": [
      "/home/andarin/anaconda3/lib/python3.7/site-packages/ipykernel_launcher.py:57: UserWarning: Function never stopped, it bought the whole box as singles.\n",
      "/home/andarin/anaconda3/lib/python3.7/site-packages/ipykernel_launcher.py:151: UserWarning: Function takes too long to be exactly evaluated; falling back to Monte Carlo.\n"
     ]
    },
    {
     "data": {
      "text/plain": [
       "{'mean': 1887.8035127593812,\n",
       " 'mean_win': 1988.2971898454741,\n",
       " 'mean_loss': -100.49367708609276,\n",
       " 'proba_win': 0.8234514790286984,\n",
       " 'proba_loss': 0.17654852097130258}"
      ]
     },
     "execution_count": 33,
     "metadata": {},
     "output_type": "execute_result"
    }
   ],
   "source": [
    "#from scipy.optimize import minimize \n",
    "#minimize(f, x0, args=(a, b, c))\n",
    "\n",
    "from scipy import optimize\n",
    "import functools\n",
    "\n",
    "#buy_if_success_ratio_geq_x_set = functools.partial(buy_if_success_ratio_geq_x, x=0.02)\n",
    "def buy_if_success_ratio_geq_x_set(x): return buy_if_success_ratio_geq_x(x, 0.02)\n",
    "\n",
    "\n",
    "run_exact(buy_if_success_ratio_geq_x_set)[\"stats\"]\n",
    "\n",
    "#minimum = optimize.fmin(f, 1)\n"
   ]
  },
  {
   "cell_type": "code",
   "execution_count": 2,
   "metadata": {},
   "outputs": [
    {
     "data": {
      "text/plain": [
       "{'buy_0': {'mean': 1983.3333333333342,\n",
       "  'mean_win': 2019.0286975717447,\n",
       "  'mean_loss': -35.695364238410505,\n",
       "  'proba_win': 0.8591611479028705,\n",
       "  'proba_loss': 0.14083885209713032},\n",
       " 'buy_1_1': {'mean': 157.19581456953756,\n",
       "  'mean_win': 158.26200724061803,\n",
       "  'mean_loss': -1.0661926710816723,\n",
       "  'proba_win': 0.04790004415011041,\n",
       "  'proba_loss': 0.9520999558498904},\n",
       " 'buy_projection_fix_sample': {'mean': 1082.3230816777013,\n",
       "  'mean_win': 1089.8390852097127,\n",
       "  'mean_loss': -7.516003532008771,\n",
       "  'proba_win': 0.35631708609271534,\n",
       "  'proba_loss': 0.6436829139072849},\n",
       " 'buy_random': {'mean': 1982.3321180573928,\n",
       "  'mean_win': 2018.167963885207,\n",
       "  'mean_loss': -35.83584582781448,\n",
       "  'proba_win': 0.8591611479028705,\n",
       "  'proba_loss': 0.14083885209713032},\n",
       " 'buy_refuse_random': {'mean': 1004.2797159381904,\n",
       "  'mean_win': 1022.1814852980131,\n",
       "  'mean_loss': -17.901769359823426,\n",
       "  'proba_win': 0.4456454746136871,\n",
       "  'proba_loss': 0.5543545253863141}}"
      ]
     },
     "execution_count": 2,
     "metadata": {},
     "output_type": "execute_result"
    }
   ],
   "source": [
    "results = {k: run_random(v) for k,v in competition.items()}\n",
    "{fname: v[\"stats\"] for fname,v in results.items()}"
   ]
  },
  {
   "cell_type": "code",
   "execution_count": 12,
   "metadata": {},
   "outputs": [
    {
     "name": "stdout",
     "output_type": "stream",
     "text": [
      "Est. time remaining: 29s\n",
      "Est. time remaining: 28s\n",
      "Est. time remaining: 25s\n",
      "Est. time remaining: 19s\n",
      "Est. time remaining: 7s\n",
      "buy_random\n",
      "{'mean': 1982.3327642328682, 'mean_win': 2018.193724354025, 'mean_loss': -35.86096012115674, 'proba_win': 0.859161147902875, 'proba_loss': 0.14083885209712935}\n",
      "buy_refuse_random\n",
      "{'mean': 1017.3619907223801, 'mean_win': 1039.8165768092467, 'mean_loss': -22.45458608686737, 'proba_win': 0.47744906391943454, 'proba_loss': 0.522550936080566}\n"
     ]
    }
   ],
   "source": [
    "competition = {\n",
    "           \"buy_random\": buy_random,\n",
    "           \"buy_refuse_random\": buy_refuse_random}\n",
    "\n",
    "for fname,f in competition.items():\n",
    "    results = run_exact(f)\n",
    "    print(fname)\n",
    "    print(results[\"stats\"])\n",
    "    #break\n"
   ]
  },
  {
   "cell_type": "code",
   "execution_count": 49,
   "metadata": {},
   "outputs": [
    {
     "name": "stdout",
     "output_type": "stream",
     "text": [
      "['__annotations__', '__call__', '__class__', '__closure__', '__code__', '__defaults__', '__delattr__', '__dict__', '__dir__', '__doc__', '__eq__', '__format__', '__ge__', '__get__', '__getattribute__', '__globals__', '__gt__', '__hash__', '__init__', '__init_subclass__', '__kwdefaults__', '__le__', '__lt__', '__module__', '__name__', '__ne__', '__new__', '__qualname__', '__reduce__', '__reduce_ex__', '__repr__', '__setattr__', '__sizeof__', '__str__', '__subclasshook__']\n",
      "<module>\n"
     ]
    }
   ],
   "source": [
    "print(dir(buy_if_success_ratio_geq_x_set))\n",
    "import inspect\n",
    "\n",
    "print(inspect.currentframe().f_code.co_name)\n"
   ]
  },
  {
   "cell_type": "code",
   "execution_count": 14,
   "metadata": {},
   "outputs": [
    {
     "data": {
      "text/plain": [
       "3"
      ]
     },
     "execution_count": 14,
     "metadata": {},
     "output_type": "execute_result"
    }
   ],
   "source": [
    "a = [1,2]\n",
    "a.append(3)\n",
    "a.pop()"
   ]
  },
  {
   "cell_type": "code",
   "execution_count": null,
   "metadata": {},
   "outputs": [],
   "source": []
  }
 ],
 "metadata": {
  "kernelspec": {
   "display_name": "Python 3",
   "language": "python",
   "name": "python3"
  },
  "language_info": {
   "codemirror_mode": {
    "name": "ipython",
    "version": 3
   },
   "file_extension": ".py",
   "mimetype": "text/x-python",
   "name": "python",
   "nbconvert_exporter": "python",
   "pygments_lexer": "ipython3",
   "version": "3.7.4"
  }
 },
 "nbformat": 4,
 "nbformat_minor": 4
}
