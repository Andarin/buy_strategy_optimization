{
 "cells": [
  {
   "cell_type": "markdown",
   "metadata": {},
   "source": [
    "## This is the main script where all simulations are launched\n",
    "#### To add a new strategy to the competition, add it to the end of strategies.py . You can use all variables which are imported from lib."
   ]
  },
  {
   "cell_type": "code",
   "execution_count": null,
   "metadata": {},
   "outputs": [],
   "source": [
    "import lib\n",
    "import strategies\n",
    "\n",
    "competition = {fname: f for fname, f in strategies.__dict__.items() if callable(f)}\n",
    "\n",
    "# Select only a part to run in the competition\n",
    "competition = {k:v for k,v in competition.items() if k in [\"buy\", \"buy_random\"]}\n",
    "\n",
    "for k, v in lib.run_competition(competition).items():\n",
    "    print(k)\n",
    "    print(v[\"stats\"])\n"
   ]
  },
  {
   "cell_type": "code",
   "execution_count": null,
   "metadata": {},
   "outputs": [],
   "source": [
    "#from scipy.optimize import minimize \n",
    "#minimize(f, x0, args=(a, b, c))\n",
    "\n",
    "from scipy import optimize\n",
    "import functools\n",
    "\n",
    "#buy_if_success_ratio_geq_x_set = functools.partial(buy_if_success_ratio_geq_x, x=0.02)\n",
    "def buy_if_success_ratio_geq_x_set(x): return buy_if_success_ratio_geq_x(x, 0.02)\n",
    "\n",
    "\n",
    "#eval_f_over_prior(buy_if_success_ratio_geq_x_set, method=\"exact\")[\"stats\"]\n",
    "list(run_competition({\"a\": buy_if_success_ratio_geq_x_set})[\"a\"].keys())#[\"stats\"]\n",
    "#minimum = optimize.fmin(f, 1)\n"
   ]
  },
  {
   "cell_type": "code",
   "execution_count": null,
   "metadata": {},
   "outputs": [],
   "source": []
  }
 ],
 "metadata": {
  "kernelspec": {
   "display_name": "Python 3",
   "language": "python",
   "name": "python3"
  },
  "language_info": {
   "codemirror_mode": {
    "name": "ipython",
    "version": 3
   },
   "file_extension": ".py",
   "mimetype": "text/x-python",
   "name": "python",
   "nbconvert_exporter": "python",
   "pygments_lexer": "ipython3",
   "version": "3.7.4-final"
  }
 },
 "nbformat": 4,
 "nbformat_minor": 4
}
